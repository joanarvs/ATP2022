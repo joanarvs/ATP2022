{
 "cells": [
  {
   "cell_type": "markdown",
   "id": "4193a91b",
   "metadata": {},
   "source": [
    "### TPC7: Análise de dados: Alunos\n",
    "\n",
    "Descarregue o ficheiro de dados: `alunos.csv`\n",
    "Crie um programa em Python, conjunto de funções, que responda às seguintes questões:\n",
    "* Crie uma função que lê a informação do ficheiro para um modelo, previamente pensado em memória;\n",
    "* Crie uma função que calcula a distribuição dos alunos por curso;\n",
    "* Crie uma função que calcula a média das notas de cada aluno e acrescenta essa nova coluna no dataset em memória;\n",
    "* Considere os seguintes escalões de notas: E [1-4], D [5-8], C [9-12], B [13-16], A [17-20], acrescente uma coluna ao dataset com o escalão correspondente a cada aluno;\n",
    "* Crie uma distribuição dos alunos por escalão;\n",
    "* Crie uma função que apresenta na forma dum gráfico de linha uma distribuição;\n",
    "* Crie uma função que imprime na forma de uma tabela uma distribuição;\n",
    "* Especifique um programa que, ciclicamente, apresenta um menu com todas funcionalidades ao utilizador."
   ]
  },
  {
   "cell_type": "code",
   "execution_count": null,
   "metadata": {},
   "outputs": [],
   "source": [
    "import tpc7\n",
    "#alunos = tpc7.lerDataset()\n",
    "#print(tpc7.distCurso(alunos))\n",
    "#print(tpc7.mediaNotas(alunos))\n",
    "#print(tpc7.escaloesNotas(alunos))\n",
    "#print(tpc7.distCurso(alunos))\n",
    "#print(tpc7.grafDist(tpc7.distCurso(alunos)))\n",
    "#print(tpc7.tabelaDist(tpc7.distCurso(alunos)))\n",
    "#Menu:\n",
    "#1.Ler o Dataset\n",
    "#2.Distribuição dos alunos por curso\n",
    "#3.Dataset com a média das notas de cada aluno\n",
    "#4.Dataset com o escalão das notas\n",
    "#5.Distribuição dos alunos por escalão\n",
    "#6.Distribuição em gráfico de linhas\n",
    "#7.Distribuição em tabela\n",
    "#0.Sair\n",
    "\n",
    "tpc7.programa()"
   ]
  }
 ],
 "metadata": {
  "kernelspec": {
   "display_name": "Python 3.10.7 64-bit",
   "language": "python",
   "name": "python3"
  },
  "language_info": {
   "codemirror_mode": {
    "name": "ipython",
    "version": 3
   },
   "file_extension": ".py",
   "mimetype": "text/x-python",
   "name": "python",
   "nbconvert_exporter": "python",
   "pygments_lexer": "ipython3",
   "version": "3.10.7"
  },
  "orig_nbformat": 4,
  "vscode": {
   "interpreter": {
    "hash": "33b00cdfdebdead18f862596b9ebfa2af40ca4a7f66f449aeaa56b2e19dd1fe1"
   }
  }
 },
 "nbformat": 4,
 "nbformat_minor": 2
}
