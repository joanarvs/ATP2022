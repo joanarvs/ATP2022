{
 "cells": [
  {
   "cell_type": "markdown",
   "id": "81703f1b",
   "metadata": {},
   "source": [
    "### TPC2: Adivinha o número\n",
    "- Crie um programa em Python para jogar o jogo \"Adivinha o número\":\n",
    "    - O jogo pode ter 2 modalidades: computador pensa num número (entre 0 e 100), utilizador tenta adivinhar; ou, o utilizador pensa num número (entre 0 e 100) e o computador tenta adivinhar;\n",
    "    - Quem tenta adivinhar responde com uma das afirmações: \"Acertou\", \"O número que pensei é Maior\" ou \"O número que pensei é Menor\";\n",
    "    - Uma vez descoberto o número o programa deverá terminar imprimindo o número de tentativas que quem adivinhou usou para chegar ao resultado."
   ]
  },
  {
   "cell_type": "code",
   "execution_count": null,
   "metadata": {},
   "outputs": [],
   "source": [
    "# TPC2: Adivinha o número\n",
    "# Modalidade 1: computador pensa num número (de 0 a 100) e o utilizador tenta advinhar\n",
    "# Modalidade 2: utilizador pensa num número (de 0 a 100) e o computador tenta advinhar\n",
    "import random\n",
    "Mod = int(input(\"Que modalidade pretende jogar?\"))\n",
    "if Mod == 1:\n",
    "    gerado = random.randrange(0, 101)\n",
    "    nInput = int(input(\"Advinhe o nr\"))\n",
    "    contador = 0\n",
    "    while(gerado != nInput):\n",
    "        if gerado > nInput:\n",
    "            print(\"O número que pensei é maior\")\n",
    "        elif gerado < nInput:\n",
    "            print(\"O número que pensei é menor\")\n",
    "        nInput = int(input(\"Tente outra vez\"))\n",
    "        contador = contador + 1\n",
    "    if gerado == nInput:\n",
    "        contador = contador + 1\n",
    "        print(\"Acertou! Parabéns! ;\", \"Número de tentativas =\", contador)\n",
    "\n",
    "elif Mod == 2:\n",
    "    num = int(input(\"Pense num nr de 0 a 100\"))\n",
    "    if num in range(0,101):\n",
    "        ger = random.randrange(0, 101)\n",
    "        print(\"Pensou no nr:\",ger, \"?\")\n",
    "        resposta = input(\"Resposta\")\n",
    "        conta = 0\n",
    "        min = 0\n",
    "        max = 101\n",
    "        while(ger != num and (resposta == (\"O número que pensei é maior\") or resposta == (\"O número que pensei é menor\"))):\n",
    "            if ger > num:\n",
    "                max = ger\n",
    "            elif ger < num:\n",
    "                min = ger\n",
    "            ger = random.randrange(min, max)\n",
    "            print(\"Pensou no nr:\",ger, \"?\")\n",
    "            resposta = input(\"Resposta\")\n",
    "            conta = conta + 1\n",
    "        if ger == num and resposta == (\"Acertou! Parabéns!\"):\n",
    "            conta = conta + 1\n",
    "            print(\"Acertei ;\", \"Número de tentativas =\", conta)\n",
    "        else:\n",
    "            print(\"Erro\")\n",
    "    else:\n",
    "        print(\"Erro\")\n",
    "else:\n",
    "    print(\"Erro\")\n"
   ]
  }
 ],
 "metadata": {
  "kernelspec": {
   "display_name": "Python 3.10.7 64-bit",
   "language": "python",
   "name": "python3"
  },
  "language_info": {
   "name": "python",
   "version": "3.10.7"
  },
  "orig_nbformat": 4,
  "vscode": {
   "interpreter": {
    "hash": "33b00cdfdebdead18f862596b9ebfa2af40ca4a7f66f449aeaa56b2e19dd1fe1"
   }
  }
 },
 "nbformat": 4,
 "nbformat_minor": 2
}
