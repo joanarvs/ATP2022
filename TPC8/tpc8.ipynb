{
 "cells": [
  {
   "cell_type": "markdown",
   "id": "4193a91b",
   "metadata": {},
   "source": [
    "### TPC8: Teste de aferição\n",
    "\n",
    "Resolva os problemas apresentados a seguir."
   ]
  },
  {
   "cell_type": "markdown",
   "id": "4e758271",
   "metadata": {},
   "source": [
    "### tpc1.a) Recebe duas strings, _s1_ e _s2_, e retorna o comprimento da substring inicial de _s1_ que não contem nenhum caráter de _s2_:"
   ]
  },
  {
   "cell_type": "code",
   "execution_count": 15,
   "id": "4ae7f5d0",
   "metadata": {},
   "outputs": [
    {
     "data": {
      "text/plain": [
       "4"
      ]
     },
     "execution_count": 15,
     "metadata": {},
     "output_type": "execute_result"
    }
   ],
   "source": [
    "def inicDiferente(s1, s2):\n",
    "    res = 0\n",
    "    s1 = s1.split(\" \")\n",
    "    s2 = s2.split(\" \")\n",
    "    i = 0\n",
    "    if len(s1[0]) < len(s2[0]) or len(s1[0]) == len(s2[0]):\n",
    "        for l in s1[0]:\n",
    "            if l != s2[0][i]:\n",
    "                res = res +1\n",
    "            i = i + 1\n",
    "    elif len(s1[0]) > len(s2[0]):\n",
    "        for l in s2[0]:\n",
    "            if l != s1[0][i]:\n",
    "                res = res +1\n",
    "            i = i + 1\n",
    "        res = res + len(s1[0])-len(s2[0])\n",
    "    \n",
    "    return res\n",
    "\n",
    "inicDiferente(\"Está um bom dia...\", \"Hoje é um dia alegre.\")\n",
    "#inicDiferente(\"Estivesse\", \"Está um dia bonito\")\n",
    "# resultado esperado: 4"
   ]
  },
  {
   "cell_type": "markdown",
   "id": "28cb3dc4",
   "metadata": {},
   "source": [
    "### tpc1.b) Recebe um parâmetro _n_ e lê _n_ números inteiros; no fim retorna quantos dos números lidos são superiores à média dos números lidos:"
   ]
  },
  {
   "cell_type": "code",
   "execution_count": null,
   "id": "4458c7bc",
   "metadata": {},
   "outputs": [],
   "source": [
    "def acimaMedia(n):\n",
    "    total = n\n",
    "    res = 0\n",
    "    soma = 0\n",
    "    listaNum = []\n",
    "    while(n>0):\n",
    "        num = int(input(\"Insira um numero n inteiro\"))\n",
    "        listaNum.append(num)\n",
    "        soma = soma + num\n",
    "        n = n-1\n",
    "    media = soma / total\n",
    "    for n in listaNum:\n",
    "        if n > media:\n",
    "            res = res + 1\n",
    "    return res\n",
    "\n",
    "acimaMedia(5)"
   ]
  },
  {
   "cell_type": "markdown",
   "id": "e6db31d7",
   "metadata": {},
   "source": [
    "### tpc1.c) Faz o merge de duas listas ordenadas, retornando uma lista ordenada com os elementos das duas listas (__não podes usar nenhuma função de ordenação do Python__):"
   ]
  },
  {
   "cell_type": "code",
   "execution_count": 12,
   "id": "2b5ad344",
   "metadata": {},
   "outputs": [
    {
     "data": {
      "text/plain": [
       "[1, 2, 3, 4, 6, 7, 9, 12]"
      ]
     },
     "execution_count": 12,
     "metadata": {},
     "output_type": "execute_result"
    }
   ],
   "source": [
    "def merge(l1, l2):\n",
    "        l3 = l1 + l2\n",
    "        condicao = True\n",
    "        while condicao:\n",
    "                i = 1\n",
    "                condicao = False\n",
    "                while i < len(l3):\n",
    "                        if l3[i-1]>l3[i]:\n",
    "                                l3[i], l3[i-1] = l3[i-1], l3[i]\n",
    "                                condicao = True\n",
    "                        i = i + 1\n",
    "        return l3\n",
    "    \n",
    "merge([1,2,6,9], [3,4,7,12])\n",
    "# Resultado esperado: [1,2,3,4,6,7,9,12]"
   ]
  },
  {
   "cell_type": "markdown",
   "id": "6698b337",
   "metadata": {},
   "source": [
    "### tpc1.d) Recebe o nome de dois ficheiros de texto, _f1_ e _f2_, e indica se são iguais (__True__) no seu conteúdo ou se são diferentes (__False__):"
   ]
  },
  {
   "cell_type": "code",
   "execution_count": 23,
   "metadata": {},
   "outputs": [],
   "source": [
    "f = open(\"texto1.txt\",\"w\")\n",
    "f.write(\"Sou um ficheiro bonito \")\n",
    "f.write(\"e tenho 2 linhas\")\n",
    "f.close()"
   ]
  },
  {
   "cell_type": "code",
   "execution_count": 26,
   "metadata": {},
   "outputs": [],
   "source": [
    "f = open(\"texto2.txt\",\"w\")\n",
    "f.write(\"Sou um ficheiro bonito\" \"\\n\")\n",
    "f.write(\"e tenho 2 linhas\")\n",
    "f.close()"
   ]
  },
  {
   "cell_type": "code",
   "execution_count": 16,
   "id": "54cef309",
   "metadata": {},
   "outputs": [
    {
     "name": "stdout",
     "output_type": "stream",
     "text": [
      "True\n",
      "False\n"
     ]
    }
   ],
   "source": [
    "def figuais(f1, f2):\n",
    "    file = open(f1)\n",
    "    f = open(f2)\n",
    "    iguais = True\n",
    "    conteudo1 = file.readlines()\n",
    "    conteudo2 = f.readlines()\n",
    "    if len(conteudo1) != len(conteudo2):\n",
    "        iguais = False    \n",
    "    i = 0\n",
    "    while i < len(conteudo1) and iguais:\n",
    "        if conteudo1[i] != conteudo2[i]:\n",
    "            iguais = False\n",
    "        i = i + 1\n",
    "    file.close()\n",
    "    f.close()\n",
    "    return iguais\n",
    "\n",
    "print(figuais(\"texto1.txt\", \"texto1.txt\"))\n",
    "print(figuais(\"texto1.txt\", \"texto2.txt\"))"
   ]
  },
  {
   "cell_type": "markdown",
   "id": "7cd572fc",
   "metadata": {},
   "source": [
    "## Questão 2: Gestão de uma Cinemateca\n",
    "\n",
    "Analise as seguintes estruturas de dados que materializam o modelo de uma cinemateca:"
   ]
  },
  {
   "cell_type": "code",
   "execution_count": 3,
   "id": "76e9e621",
   "metadata": {},
   "outputs": [],
   "source": [
    "# Cinemateca = [Filme]\n",
    "# Filme = (Título, Ano, Elenco, Géneros)\n",
    "# Título = String\n",
    "# Ano = Int\n",
    "# Elenco = [Ator]\n",
    "# Ator = String\n",
    "# Géneros = [Género]\n",
    "# Género = String\n",
    "Filme1 = (\"Meet the Parents\", 2000, [\"Ben Stiller\",\"Robert De Niro\",\n",
    "      \"Blythe Danner\",\"Teri Polo\",\"Owen Wilson\"], [\"Comedy\", \"Drama\"])\n",
    "Filme2 = (\"Men of Honor\", 2000, [\"Robert De Niro\",\"Cuba Gooding, Jr.\",\n",
    "      \"Charlize Theron\"], [\"Biography\", \"Drama\", \"Thriller\"])\n",
    "Filme3 = (\"Analyze That\", 2002, [\"Robert De Niro\",\"Billy Crystal\",\n",
    "      \"Lisa Kudrow\"], [\"Comedy\"])\n",
    "CineUM = [Filme1, Filme2, Filme3]"
   ]
  },
  {
   "cell_type": "markdown",
   "id": "89afc758",
   "metadata": {},
   "source": [
    " e especifique funções que calculem o que se descreve a seguir:"
   ]
  },
  {
   "cell_type": "markdown",
   "id": "2156a0c8",
   "metadata": {},
   "source": [
    "### tpc2.a)  Devolve uma lista dos atores participantes nos filmes armazenados, ordenada alfabeticamente e sem repetições:"
   ]
  },
  {
   "cell_type": "code",
   "execution_count": 4,
   "metadata": {},
   "outputs": [],
   "source": [
    "def remDupLista(lista):\n",
    "    nova = []\n",
    "    for i in lista:\n",
    "        if i not in nova:\n",
    "            nova.append(i)\n",
    "    return nova"
   ]
  },
  {
   "cell_type": "code",
   "execution_count": 5,
   "id": "8a5a2a41",
   "metadata": {},
   "outputs": [
    {
     "name": "stdout",
     "output_type": "stream",
     "text": [
      "['Ben Stiller', 'Billy Crystal', 'Blythe Danner', 'Charlize Theron', 'Cuba Gooding, Jr.', 'Lisa Kudrow', 'Owen Wilson', 'Robert De Niro', 'Teri Polo']\n"
     ]
    }
   ],
   "source": [
    "def atores(cinemateca):\n",
    "    listaAtores = []\n",
    "    for filme in cinemateca:\n",
    "        tit,ano,elenco,gen = filme\n",
    "        listaAtores = listaAtores + elenco\n",
    "    listAtorOrdem = remDupLista(listaAtores)\n",
    "    listAtorOrdem.sort()\n",
    "    return listAtorOrdem\n",
    "\n",
    "print(atores(CineUM))\n",
    "# Resultado esperado: ['Ben Stiller', 'Billy Crystal', 'Blythe Danner', 'Charlize Theron', 'Cuba Gooding, Jr.', 'Lisa Kudrow', 'Owen Wilson', 'Robert De Niro', 'Teri Polo']"
   ]
  },
  {
   "cell_type": "markdown",
   "id": "12f9126b",
   "metadata": {},
   "source": [
    "### tpc2.b)  Devolve uma lista de todos os títulos dos filmes, em ordem alfabética, e de um determinado género passado como argumento:"
   ]
  },
  {
   "cell_type": "code",
   "execution_count": 8,
   "id": "d9dfe30a",
   "metadata": {},
   "outputs": [
    {
     "name": "stdout",
     "output_type": "stream",
     "text": [
      "['Analyze That', 'Meet the Parents']\n"
     ]
    }
   ],
   "source": [
    "def listarPorGenero(cinemateca, genero):\n",
    "    listaFilmes = []\n",
    "    for filme in cinemateca:\n",
    "        tit,ano,elenco,gen = filme\n",
    "        if genero in gen:\n",
    "            listaFilmes.append(tit)\n",
    "    listaFilmes.sort()\n",
    "    return listaFilmes\n",
    "\n",
    "print(listarPorGenero(CineUM, \"Comedy\"))\n",
    "# Resultado esperado: ['Analyze That', 'Meet the Parents']"
   ]
  },
  {
   "cell_type": "markdown",
   "id": "1a0f760b",
   "metadata": {},
   "source": [
    "### tpc2.c)  Devolve o título do filme com o maior elenco:"
   ]
  },
  {
   "cell_type": "code",
   "execution_count": 9,
   "id": "a00c85e3",
   "metadata": {},
   "outputs": [
    {
     "name": "stdout",
     "output_type": "stream",
     "text": [
      "Meet the Parents\n"
     ]
    }
   ],
   "source": [
    "def maiorElenco(cinemateca):\n",
    "    tamanho = 0\n",
    "    for filme in cinemateca:\n",
    "        tit,ano,elenco,gen = filme\n",
    "        if len(elenco) > tamanho:\n",
    "            titulo = tit\n",
    "            tamanho = len(elenco)\n",
    "    return titulo\n",
    "\n",
    "print(maiorElenco(CineUM))\n",
    "# Resultado esperado: Meet the Parents"
   ]
  },
  {
   "cell_type": "markdown",
   "id": "65061d0a",
   "metadata": {},
   "source": [
    "### tpc2.d)  Calcula a distribuição de filmes por Género:"
   ]
  },
  {
   "cell_type": "code",
   "execution_count": 10,
   "id": "dc1adabc",
   "metadata": {},
   "outputs": [
    {
     "name": "stdout",
     "output_type": "stream",
     "text": [
      "{'Comedy': 2, 'Drama': 2, 'Biography': 1, 'Thriller': 1}\n"
     ]
    }
   ],
   "source": [
    "def filmePorGenero(cinemateca):\n",
    "    distGenero = {}\n",
    "    for filme in cinemateca:\n",
    "        tit,ano,elenco,gen = filme\n",
    "        for genero in gen:\n",
    "            if genero in distGenero.keys():\n",
    "                distGenero[genero] = distGenero[genero] + 1\n",
    "            else:\n",
    "               distGenero[genero] = 1 \n",
    "    return distGenero\n",
    "\n",
    "distGenero = filmePorGenero(CineUM)\n",
    "print(distGenero)"
   ]
  },
  {
   "cell_type": "markdown",
   "id": "de46a635",
   "metadata": {},
   "source": [
    "### tpc2.e)  Represente num gráfico de barras a distribuição calculada na alínea anterior (pode usar o material que entender das aulas):"
   ]
  },
  {
   "cell_type": "code",
   "execution_count": 11,
   "metadata": {},
   "outputs": [
    {
     "data": {
      "image/png": "[encoded data removed]",
      "text/plain": [
       "<Figure size 640x480 with 1 Axes>"
      ]
     },
     "metadata": {},
     "output_type": "display_data"
    }
   ],
   "source": [
    "import matplotlib.pyplot as plt\n",
    "\n",
    "def plotDistrib(distrib):\n",
    "    plt.bar(distrib.keys(), distrib.values(), width = 0.4)\n",
    "    plt.xticks([x for x in range(0, len(distrib.keys()))], distrib.keys())\n",
    "    plt.title('Distribuição de filmes por género')\n",
    "    plt.show()\n",
    "    return\n",
    "\n",
    "plotDistrib(distGenero)"
   ]
  }
 ],
 "metadata": {
  "kernelspec": {
   "display_name": "Python 3.10.7 64-bit",
   "language": "python",
   "name": "python3"
  },
  "language_info": {
   "codemirror_mode": {
    "name": "ipython",
    "version": 3
   },
   "file_extension": ".py",
   "mimetype": "text/x-python",
   "name": "python",
   "nbconvert_exporter": "python",
   "pygments_lexer": "ipython3",
   "version": "3.10.7"
  },
  "orig_nbformat": 4,
  "vscode": {
   "interpreter": {
    "hash": "33b00cdfdebdead18f862596b9ebfa2af40ca4a7f66f449aeaa56b2e19dd1fe1"
   }
  }
 },
 "nbformat": 4,
 "nbformat_minor": 2
}
